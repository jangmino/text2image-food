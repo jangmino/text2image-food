{
 "cells": [
  {
   "cell_type": "markdown",
   "metadata": {},
   "source": [
    "# 미세 튜닝 모델 검증"
   ]
  },
  {
   "cell_type": "code",
   "execution_count": null,
   "metadata": {
    "id": "ALRXjraJQxJI"
   },
   "outputs": [],
   "source": [
    "import torch\n",
    "import requests\n",
    "from PIL import Image\n",
    "from io import BytesIO\n",
    "from matplotlib import pyplot as plt\n",
    "import transformers"
   ]
  },
  {
   "cell_type": "code",
   "execution_count": null,
   "metadata": {
    "id": "xzebSKGiQxJI"
   },
   "outputs": [],
   "source": [
    "# Set device\n",
    "device = (\n",
    "    \"mps\"\n",
    "    if torch.backends.mps.is_available()\n",
    "    else \"cuda\"\n",
    "    if torch.cuda.is_available()\n",
    "    else \"cpu\"\n",
    ")\n",
    "torch_dtype = torch.float16 if device == \"cuda\" else torch.float16"
   ]
  },
  {
   "cell_type": "code",
   "execution_count": null,
   "metadata": {},
   "outputs": [],
   "source": [
    "print(device)"
   ]
  },
  {
   "cell_type": "markdown",
   "metadata": {
    "id": "65OTHx11QxJJ"
   },
   "source": [
    "# Text2Image"
   ]
  },
  {
   "cell_type": "code",
   "execution_count": null,
   "metadata": {},
   "outputs": [],
   "source": [
    "import torch\n",
    "from diffusers import StableDiffusionPipeline, UNet2DConditionModel\n",
    "\n",
    "model_path = \"/Volumes/jmoh2T/models/sd-foodai-model\"\n",
    "unet = UNet2DConditionModel.from_pretrained(model_path + \"/checkpoint-25000/unet\", torch_dtype=torch_dtype)\n",
    "\n",
    "pipe = StableDiffusionPipeline.from_pretrained(\"CompVis/stable-diffusion-v1-4\", unet=unet, torch_dtype=torch_dtype)\n",
    "pipe.to(device)\n",
    "\n",
    "# image = pipe(prompt=\"yoda\").images[0]\n",
    "# image.save(\"yoda-naruto.png\")"
   ]
  },
  {
   "cell_type": "code",
   "execution_count": null,
   "metadata": {
    "id": "nXRaIATbQxJJ"
   },
   "outputs": [],
   "source": [
    "# Load the pipeline\n",
    "model_id_or_path = \"CompVis/stable-diffusion-v1-4\"\n",
    "original_pipe = StableDiffusionPipeline.from_pretrained(model_id_or_path, torch_dtype=torch_dtype).to(device)"
   ]
  },
  {
   "cell_type": "code",
   "execution_count": null,
   "metadata": {},
   "outputs": [],
   "source": [
    "# prompt = \"Seafood hot pot, as if it's being served in a Korean restaurant\"\n",
    "# prompt = \"Pajeon (green onion pancake), Korean style\"\n",
    "# prompt = \"Songpyeon (half-moon shaped rice cake), Korean style, photographed from directly above\"\n",
    "# prompt = 'Small clams, steamed, photographed from directly above'\n",
    "# prompt = \"Roasted seaweed, Korean style, photographed from directly above\"\n",
    "# prompt = 'Tteokbokki (spicy rice cakes) with a half of boiled egg on it, which is Korean street food, photographed from directly above'\n",
    "# prompt = \"Ramyeon (Korean instant noodles), photographed from directly above\"\n",
    "# prompt = \"Kimchi soup, photographed from directly above, without chopsticks\"\n",
    "# prompt = \"Naengmyeon (cold noodles) with a cup of coffe at left side, photographed from directly above\"\n",
    "# prompt = \"Korean favoriate food called 'Chicken feet' with hot source, unurgly, photographed from directly above\" # 혐오\n",
    "# \n",
    "# prompt = \"Spicy pork bulgogi, a food which is photographed from directly above\""
   ]
  },
  {
   "cell_type": "code",
   "execution_count": null,
   "metadata": {},
   "outputs": [],
   "source": [
    "generator = torch.Generator(device=device).manual_seed(42)\n",
    "pipe(prompt=prompt,\n",
    "    # negative_prompt=\"chinese food\", # Negative prompt to avoid\n",
    "    height=480, width=480,     # Specify the image size\n",
    "    guidance_scale=8,          # How strongly to follow the prompt\n",
    "    num_inference_steps=35,    # How many steps to take\n",
    "    generator=generator        # Fixed random seed\n",
    "    ).images[0]"
   ]
  },
  {
   "cell_type": "code",
   "execution_count": null,
   "metadata": {},
   "outputs": [],
   "source": [
    "generator = torch.Generator(device=device).manual_seed(42)\n",
    "original_pipe(prompt=prompt, \n",
    "    height=480, width=480,     # Specify the image size\n",
    "    guidance_scale=8,          # How strongly to follow the prompt\n",
    "    num_inference_steps=35,    # How many steps to take\n",
    "    generator=generator        # Fixed random seed\n",
    "    ).images[0]"
   ]
  },
  {
   "cell_type": "code",
   "execution_count": null,
   "metadata": {
    "colab": {
     "referenced_widgets": [
      "e0acdfd1d5a148f09f128508f6be1291",
      "51ac5abc04f848c88482633069a77970",
      "4c80b596233c43698b8eff2a6ee767ad"
     ]
    },
    "id": "ld2ws1oeQxJK",
    "outputId": "1a86b099-a063-4e5b-f19b-2290c7fd52c7"
   },
   "outputs": [],
   "source": [
    "#@markdown comparing guidance scales:\n",
    "cfg_scales = [1.1, 8, 12, 20] #@param\n",
    "# prompt = \"A collie with a pink hat\" #@param\n",
    "fig, axs = plt.subplots(1, len(cfg_scales), figsize=(16, 5))\n",
    "for i, ax in enumerate(axs):\n",
    "  im = pipe(prompt, height=480, width=480,\n",
    "    guidance_scale=cfg_scales[i], num_inference_steps=35,\n",
    "    generator=torch.Generator(device=device).manual_seed(42)).images[0]\n",
    "  ax.imshow(im); ax.set_title(f'CFG Scale {cfg_scales[i]}');"
   ]
  },
  {
   "cell_type": "markdown",
   "metadata": {},
   "source": [
    "# 조사: 한국어 스테이블 디퓨전"
   ]
  },
  {
   "cell_type": "code",
   "execution_count": null,
   "metadata": {},
   "outputs": [],
   "source": [
    "import torch\n",
    "from diffusers import StableDiffusionPipeline, EulerAncestralDiscreteScheduler\n",
    "\n",
    "repo = \"Bingsu/my-korean-stable-diffusion-v1-5\"\n",
    "euler_ancestral_scheduler = EulerAncestralDiscreteScheduler.from_config(repo, subfolder=\"scheduler\")\n",
    "ko_pipe = StableDiffusionPipeline.from_pretrained(\n",
    "    repo, scheduler=euler_ancestral_scheduler, torch_dtype=torch.float16,\n",
    ")\n",
    "ko_pipe.to(device)"
   ]
  },
  {
   "cell_type": "code",
   "execution_count": null,
   "metadata": {},
   "outputs": [],
   "source": [
    "generator = torch.Generator(device=device).manual_seed(42)\n",
    "ko_pipe(prompt=\"고양이 한마리\",\n",
    "    # negative_prompt=\"chinese food\", # Negative prompt to avoid\n",
    "    height=480, width=480,     # Specify the image size\n",
    "    guidance_scale=8,          # How strongly to follow the prompt\n",
    "    num_inference_steps=35,    # How many steps to take\n",
    "    generator=generator        # Fixed random seed\n",
    "    ).images[0]"
   ]
  },
  {
   "cell_type": "code",
   "execution_count": null,
   "metadata": {},
   "outputs": [],
   "source": []
  }
 ],
 "metadata": {
  "colab": {
   "provenance": [],
   "toc_visible": true
  },
  "kernelspec": {
   "display_name": "Python 3 (ipykernel)",
   "language": "python",
   "name": "python3"
  },
  "language_info": {
   "codemirror_mode": {
    "name": "ipython",
    "version": 3
   },
   "file_extension": ".py",
   "mimetype": "text/x-python",
   "name": "python",
   "nbconvert_exporter": "python",
   "pygments_lexer": "ipython3",
   "version": "3.10.14"
  },
  "widgets": {
   "application/vnd.jupyter.widget-state+json": {}
  }
 },
 "nbformat": 4,
 "nbformat_minor": 4
}
